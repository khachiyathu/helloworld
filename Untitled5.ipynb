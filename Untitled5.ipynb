{
  "nbformat": 4,
  "nbformat_minor": 0,
  "metadata": {
    "colab": {
      "provenance": [],
      "authorship_tag": "ABX9TyM2Uj2g8TU7XLPDGkVm/V58",
      "include_colab_link": true
    },
    "kernelspec": {
      "name": "python3",
      "display_name": "Python 3"
    },
    "language_info": {
      "name": "python"
    }
  },
  "cells": [
    {
      "cell_type": "markdown",
      "metadata": {
        "id": "view-in-github",
        "colab_type": "text"
      },
      "source": [
        "<a href=\"https://colab.research.google.com/github/khachiyathu/helloworld/blob/main/Untitled5.ipynb\" target=\"_parent\"><img src=\"https://colab.research.google.com/assets/colab-badge.svg\" alt=\"Open In Colab\"/></a>"
      ]
    },
    {
      "cell_type": "code",
      "source": [
        "import pandas as pd\n",
        "import matplotlib.pyplot as plt\n",
        "import seaborn as sns\n",
        "import numpy as np\n"
      ],
      "metadata": {
        "id": "NHg8w87SUTtV"
      },
      "execution_count": 4,
      "outputs": []
    },
    {
      "cell_type": "code",
      "source": [
        "# データの読み込み\n",
        "input_data = pd.read_csv(\"/mnt/data/Bank_Personal_Loan_Modelling.csv\")\n",
        "\n",
        "# データの先頭10行を表示\n",
        "print(input_data.head(10))\n",
        "\n",
        "# データの概要を表示\n",
        "print(input_data.info())\n",
        "\n",
        "# 基本統計量を表示\n",
        "print(input_data.describe())\n"
      ],
      "metadata": {
        "id": "k44hp8hiUl6M"
      },
      "execution_count": null,
      "outputs": []
    },
    {
      "cell_type": "code",
      "source": [
        "# 欠損値の確認\n",
        "print(input_data.isnull().sum())\n",
        "\n",
        "# 必要に応じて欠損値の補完や削除を行います\n",
        "# 例: input_data['column_name'] = input_data['column_name'].fillna(value)\n",
        "\n",
        "# カテゴリ変数の数値変換なども行います（必要な場合）\n",
        "# 例: input_data['category_column'] = input_data['category_column'].map({'category1': 1, 'category2': 2})\n"
      ],
      "metadata": {
        "id": "vCtISN03UnBn"
      },
      "execution_count": null,
      "outputs": []
    },
    {
      "cell_type": "code",
      "source": [
        "# 例として 'Age' 列について基本統計量を計算します\n",
        "print(input_data['Age'].mean())\n",
        "print(input_data['Age'].median())\n",
        "print(input_data['Age'].var())\n",
        "print(input_data['Age'].std())\n",
        "print(input_data['Age'].max())\n",
        "print(input_data['Age'].min())\n"
      ],
      "metadata": {
        "id": "-HDu-NXdUpzJ"
      },
      "execution_count": null,
      "outputs": []
    },
    {
      "cell_type": "code",
      "source": [
        "# 例として 'Education' ごとの 'Age' の統計量を計算します\n",
        "print(input_data.groupby('Education')['Age'].mean())\n",
        "print(input_data.groupby('Education')['Age'].median())\n",
        "print(input_data.groupby('Education')['Age'].var())\n",
        "print(input_data.groupby('Education')['Age'].std())\n",
        "print(input_data.groupby('Education')['Age'].max())\n",
        "print(input_data.groupby('Education')['Age'].min())\n"
      ],
      "metadata": {
        "id": "NnVNa_U0UuN1"
      },
      "execution_count": null,
      "outputs": []
    },
    {
      "cell_type": "code",
      "source": [
        "# 年齢(Age)についてヒストグラムを描く\n",
        "plt.hist(input_data['Age'], bins=20)\n",
        "plt.xlabel('Age')\n",
        "plt.ylabel('Count')\n",
        "plt.grid(True)\n",
        "plt.show()\n"
      ],
      "metadata": {
        "id": "t8QAJttzUxc7"
      },
      "execution_count": null,
      "outputs": []
    },
    {
      "cell_type": "code",
      "source": [
        "# 年齢と収入の関係を散布図で表示\n",
        "plt.scatter(input_data['Age'], input_data['Income'], s=50, c=\"blue\", alpha=0.3, linewidths=1, edgecolors=\"blue\")\n",
        "plt.title('Age and Income')\n",
        "plt.xlabel('Age')\n",
        "plt.ylabel('Income')\n",
        "plt.show()\n",
        "\n",
        "# Seabornを使ってjointplotを描く\n",
        "sns.jointplot(data=input_data, x=\"Age\", y=\"Income\", kind=\"scatter\")\n",
        "plt.show()\n"
      ],
      "metadata": {
        "id": "Sxh_NYYOU0Wx"
      },
      "execution_count": null,
      "outputs": []
    },
    {
      "cell_type": "code",
      "source": [
        "# モデルで利用する変数を接合し、ひとつのDataFrameにする\n",
        "x_list = pd.concat([input_data['Age'], input_data['Income'], input_data['CCAvg'], input_data['Mortgage'], input_data['Personal Loan']], axis=1)\n",
        "\n",
        "# ペアプロットをプロットする\n",
        "sns.pairplot(x_list, kind='reg')\n",
        "plt.show()\n"
      ],
      "metadata": {
        "id": "ajFZGSgtU3eG"
      },
      "execution_count": null,
      "outputs": []
    }
  ]
}